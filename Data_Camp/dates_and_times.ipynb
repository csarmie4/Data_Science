{
 "cells": [
  {
   "cell_type": "markdown",
   "metadata": {},
   "source": [
    "#### Dates and Calendars\n",
    "<b>from datetime import date</b> import date function \\\n",
    "<b>var = [date(2016, 10, 7), date(2017, 6, 21)]</b> Created two python date objects. (year, month, day) order goes from biggest to smallest \\\n",
    "<b>var_dates[0].weeday()</b> Returns what weekday it is with 0 being monday 1 being tuesday and so on up to sunday being 6. \\\n",
    "<b>var = var_day1 -  var_day2</b> Subtract days \\\n",
    "<b>td = timedelta(days=29)</b> \\\n",
    "<b>var_day1 + td</b> Adds 29 days to day 1. \\\n",
    "<b>var_d.isoformat()</b> Puts date into a string \\\n",
    "<b>d_var.strftime(\"Todays date is %m/%d and the year is %Y\")</b> Formate the date. Corresponding dates are added to the %Y, %m, and %d. \\"
   ]
  },
  {
   "cell_type": "code",
   "execution_count": null,
   "metadata": {},
   "outputs": [],
   "source": [
    "# Counter for how many before June 1\n",
    "early_hurricanes = 0\n",
    "\n",
    "# We loop over the dates\n",
    "for hurricane in florida_hurricane_dates:\n",
    "  # Check if the month is before June (month number 6)\n",
    "  if hurricane.month < 6:\n",
    "    early_hurricanes = early_hurricanes + 1\n",
    "    \n",
    "print(early_hurricanes)"
   ]
  },
  {
   "cell_type": "code",
   "execution_count": null,
   "metadata": {},
   "outputs": [],
   "source": [
    "# Import date\n",
    "from datetime import date\n",
    "\n",
    "# Create a date object for May 9th, 2007\n",
    "start = date(2007, 5, 9)\n",
    "\n",
    "# Create a date object for December 13th, 2007\n",
    "end = date(2007, 12, 13)\n",
    "\n",
    "# Subtract the two dates and print the number of days\n",
    "print((end - start).days)"
   ]
  },
  {
   "cell_type": "code",
   "execution_count": null,
   "metadata": {},
   "outputs": [],
   "source": [
    "# Print the first and last scrambled dates\n",
    "print(dates_scrambled[0])\n",
    "print(dates_scrambled[-1])\n",
    "\n",
    "# Put the dates in order\n",
    "dates_ordered = sorted(dates_scrambled)\n",
    "\n",
    "# Print the first and last ordered dates\n",
    "print(dates_ordered[0])\n",
    "print(dates_ordered[-1])"
   ]
  },
  {
   "cell_type": "code",
   "execution_count": null,
   "metadata": {},
   "outputs": [],
   "source": [
    "# Assign the earliest date to first_date\n",
    "first_date = min(florida_hurricane_dates)\n",
    "\n",
    "# Convert to ISO and US formats\n",
    "iso = \"Our earliest hurricane date: \" + first_date.isoformat()\n",
    "us = \"Our earliest hurricane date: \" + first_date.strftime(\"%m/%d/%Y\")\n",
    "\n",
    "print(\"ISO: \" + iso)\n",
    "print(\"US: \" + us)"
   ]
  },
  {
   "cell_type": "markdown",
   "metadata": {},
   "source": [
    "#### Combining Dates and Times\n",
    "<b>dt = datetime(2017, 10, 1, 15, 23, 25)</b> Create date time with parameters as follows (year, month, day, hour, minute, second, microsecond) \\\n",
    "<b>dt_hr = dt.replace(minute=0, second=0)</b> Change dt variable to represent the hour. \\\n",
    "<b>datetime.fromtimestamp(var_ts)</b> var_ts is the unix timestamp which is number of seconds since Jan 1 1970. This converts timestamp(in seconds) to datetime object.\n"
   ]
  },
  {
   "cell_type": "code",
   "execution_count": null,
   "metadata": {},
   "outputs": [],
   "source": [
    "# Import datetime\n",
    "from datetime import datetime\n",
    "\n",
    "# Create a datetime object\n",
    "dt = datetime(2017, 10, 1, 15, 26, 26)\n",
    "\n",
    "# Print the results in ISO 8601 format\n",
    "print(dt.isoformat())"
   ]
  },
  {
   "cell_type": "code",
   "execution_count": null,
   "metadata": {},
   "outputs": [],
   "source": [
    "# Create dictionary to hold results\n",
    "trip_counts = {'AM': 0, 'PM': 0}\n",
    "  \n",
    "# Loop over all trips\n",
    "for trip in onebike_datetimes:\n",
    "  # Check to see if the trip starts before noon\n",
    "  if trip['start'].hour < 12:\n",
    "    # Increment the counter for before noon\n",
    "    trip_counts[\"AM\"] += 1\n",
    "  else:\n",
    "    # Increment the counter for after noon\n",
    "    trip_counts[\"PM\"] += 1\n",
    "  \n",
    "print(trip_counts)"
   ]
  },
  {
   "cell_type": "code",
   "execution_count": null,
   "metadata": {},
   "outputs": [],
   "source": [
    "# Import the datetime class\n",
    "from datetime import datetime\n",
    "\n",
    "# Starting string, in MM/DD/YYYY HH:MM:SS format\n",
    "s = '12/15/1986 08:00:00'\n",
    "\n",
    "# Write a format string to parse s\n",
    "fmt = '%m/%d/%Y %H:%M:%S'\n",
    "\n",
    "# Create a datetime object d\n",
    "d = datetime.strptime(s, fmt)\n",
    "\n",
    "# Print d\n",
    "print(d)"
   ]
  },
  {
   "cell_type": "markdown",
   "metadata": {},
   "source": [
    "#### Time Zones and Daylight Saving\n",
    "<b>ET = timezone(timedelta(hours=-5))</b> Convert our time data into US Eastern Standard time zone \\\n",
    "<b>dt = datetime(2017, 12, 30, 15, 9, 3, tzinfo=ET)</b> Now our time is in ET time zone \\\n",
    "<b>IST = timezone(timedelta(hours=5, minutes=30))</b>India standard time zone. Used below \\\n",
    "<b>dt.astimezone(IST)</b> Shows the dt datetime but in India Standard time zone \\\n",
    "<b>dt.replace(tzinfo=timezone.utc)</b> change the timezone of a datetime, but leaves the date and time the same \\\n",
    "<b>dt.astimezone(timezone.utc)</b> Shifts the date and time to match the new timezone \\\n",
    "<b>from dateutil import tz</b> Using tz database \\\n",
    "<b>uk = tz.gettz('Europe/London')</b> Gets Londons time zone "
   ]
  },
  {
   "cell_type": "code",
   "execution_count": null,
   "metadata": {},
   "outputs": [],
   "source": [
    "# Import datetime, timedelta, timezone\n",
    "from datetime import datetime, timedelta, timezone\n",
    "\n",
    "# Create a timezone for Australian Eastern Daylight Time, or UTC+11\n",
    "aedt = timezone(timedelta(hours=11))\n",
    "\n",
    "# October 1, 2017 at 15:26:26, UTC+11\n",
    "dt = datetime(2017, 10, 1, 15, 26, 26, tzinfo=aedt)\n",
    "\n",
    "# Print results\n",
    "print(dt.isoformat())"
   ]
  },
  {
   "cell_type": "code",
   "execution_count": null,
   "metadata": {},
   "outputs": [],
   "source": [
    "# Create a timezone object corresponding to UTC-4\n",
    "edt = timezone(timedelta(hours=-4))\n",
    "\n",
    "# Loop over trips, updating the start and end datetimes to be in UTC-4\n",
    "for trip in onebike_datetimes[:10]:\n",
    "  # Update trip['start'] and trip['end']\n",
    "  trip['start'] = trip['start'].replace(tzinfo = edt)\n",
    "  trip['end'] = trip['end'].replace(tzinfo = edt)"
   ]
  },
  {
   "cell_type": "code",
   "execution_count": null,
   "metadata": {},
   "outputs": [],
   "source": [
    "# Loop over the trips\n",
    "for trip in onebike_datetimes[:10]:\n",
    "  # Pull out the start\n",
    "  dt = trip['start']\n",
    "  # Move dt to be in UTC\n",
    "  dt = dt.astimezone(timezone.utc)\n",
    "  \n",
    "  # Print the start time in UTC\n",
    "  print('Original:', trip['start'], '| UTC:', dt.isoformat())"
   ]
  },
  {
   "cell_type": "code",
   "execution_count": null,
   "metadata": {},
   "outputs": [],
   "source": [
    "# Import tz\n",
    "from dateutil import tz\n",
    "\n",
    "# Create a timezone object for Eastern Time\n",
    "et = tz.gettz('America/New_York')\n",
    "\n",
    "# Loop over trips, updating the datetimes to be in Eastern Time\n",
    "for trip in onebike_datetimes[:10]:\n",
    "  # Update trip['start'] and trip['end']\n",
    "  trip['start'] = trip['start'].replace(tzinfo = et)\n",
    "  trip['end'] = trip['end'].replace(tzinfo = et)"
   ]
  },
  {
   "cell_type": "code",
   "execution_count": null,
   "metadata": {},
   "outputs": [],
   "source": [
    "trip_durations = []\n",
    "for trip in onebike_datetimes:\n",
    "  # When the start is later than the end, set the fold to be 1\n",
    "  if trip['start'] > trip['end']:\n",
    "    trip['end'] = tz.enfold(trip['end'])\n",
    "  # Convert to UTC\n",
    "  start = trip['start'].astimezone(tz.UTC)\n",
    "  end = trip['end'].astimezone(tz.UTC)\n",
    "\n",
    "  # Subtract the difference\n",
    "  trip_length_seconds = (end-start).total_seconds()\n",
    "  trip_durations.append(trip_length_seconds)\n",
    "\n",
    "# Take the shortest trip duration\n",
    "print(\"Shortest trip: \" + str(min(trip_durations)))"
   ]
  },
  {
   "cell_type": "markdown",
   "metadata": {},
   "source": [
    "#### Easy and Powerful: Dates and Times in Pandas\n",
    "<b>var = pd.read_csv(\"file.csv\", parse_dates=[\"col1\", \"col2\"])</b> parse_dates creates datetime objects in the columns defined in the list \\\n",
    "<b>df[\"col1\"] = pd.to_datetime(df[\"col1\"], format=\"%Y-%m-%d %H:%M:%S\")</b> does same as above when it does not work \\\n",
    "<b>df[\"col1\"].dt.total_seconds()</b> See total seconds from a time delta column \\\n",
    "<b>df.resample(\"M\", on=\"col1\")[\"col2_duration\"].mean()</b> Like groupby() but with time. Take Month(\"M\") from col1 and group by col1. Calculate mean values from col2 for each month. \\\n",
    "<b>df.groupby(\"col1\").size()</b> Get size of each group \\\n",
    "<b>df.groupby(\"col1\").firsr()</b> Get first row of each group \\\n",
    "<b>.plot()</b> Can add .plot() to end of many lines of code to quickly plot data \\\n",
    "<b>print(\"{} is the sum\".format(var.sum()))</b> Places sum into {}. Can use comma to format multiple statistics into string. Number of statistics and number of {} must match. \\\n",
    "<b>.dt.tz_localize(\"America/New_York\", ambiguous=\"NaT\")</b> Sets timezone but keeps date and time the same. Takes care of timezone. For times that happened during timezone ambiguous will handle that by converting the row to NaT. Or any row that confuses the conversion will be a NaT  \\\n",
    "<b>.tz_convert()</b> Changes the date and time to match the new timezone \\\n",
    "<b>.shift(1)</b> Shift rows by 1, padding with NaT \\"
   ]
  },
  {
   "cell_type": "code",
   "execution_count": null,
   "metadata": {},
   "outputs": [],
   "source": [
    "# Subtract the start date from the end date\n",
    "ride_durations = rides[\"End date\"] - rides[\"Start date\"]\n",
    "\n",
    "# Convert the results to seconds\n",
    "rides[\"Duration\"] = ride_durations.dt.total_seconds()\n",
    "\n",
    "print(rides['Duration'].head())"
   ]
  },
  {
   "cell_type": "code",
   "execution_count": null,
   "metadata": {},
   "outputs": [],
   "source": [
    "# Create joyrides\n",
    "joyrides = (rides['Start station'] == rides['End station'])\n",
    "\n",
    "# Total number of joyrides\n",
    "print(\"{} rides were joyrides\".format(joyrides.sum()))\n",
    "\n",
    "# Median of all rides\n",
    "print(\"The median duration overall was {:.2f} seconds\"\\\n",
    "      .format(rides['Duration'].median()))\n",
    "\n",
    "# Median of joyrides\n",
    "print(\"The median duration for joyrides was {:.2f} seconds\"\\\n",
    "      .format(rides[joyrides]['Duration'].median()))"
   ]
  },
  {
   "cell_type": "code",
   "execution_count": null,
   "metadata": {},
   "outputs": [],
   "source": [
    "# Import matplotlib\n",
    "import matplotlib.pyplot as plt\n",
    "\n",
    "# Resample rides to monthly, take the size, plot the results\n",
    "# \"D\" for days\n",
    "rides.resample(\"M\", on = 'Start date')\\\n",
    "  .size()\\\n",
    "  .plot(ylim = [0, 150])\n",
    "\n",
    "# Show the results\n",
    "plt.show()"
   ]
  },
  {
   "cell_type": "code",
   "execution_count": null,
   "metadata": {},
   "outputs": [],
   "source": [
    "# Group rides by member type, and resample to the month\n",
    "grouped = rides.groupby('Member type')\\\n",
    "  .resample(\"M\", on=\"Start date\")\n",
    "\n",
    "# Print the median duration for each group\n",
    "print(grouped[\"Duration\"].median())"
   ]
  },
  {
   "cell_type": "code",
   "execution_count": null,
   "metadata": {},
   "outputs": [],
   "source": [
    "# Localize the Start date column to America/New_York\n",
    "rides['Start date'] = rides['Start date'].dt.tz_localize('America/New_York', \n",
    "                                \t\t\t\t\t\t ambiguous='NaT')\n",
    "\n",
    "# Print first value\n",
    "print(rides['Start date'].iloc[0])\n",
    "\n",
    "# Convert the Start date column to Europe/London\n",
    "rides['Start date'] = rides['Start date'].dt.tz_convert(\"Europe/London\")\n",
    "\n",
    "# Print the new value\n",
    "print(rides['Start date'].iloc[0])"
   ]
  },
  {
   "cell_type": "code",
   "execution_count": null,
   "metadata": {},
   "outputs": [],
   "source": [
    "# Add a column for the weekday of the start of the ride\n",
    "rides['Ride start weekday'] = rides['Start date'].dt.day_name()\n",
    "\n",
    "# Print the median trip time per weekday\n",
    "print(rides.groupby('Ride start weekday')['Duration'].median())"
   ]
  },
  {
   "cell_type": "code",
   "execution_count": null,
   "metadata": {},
   "outputs": [],
   "source": [
    "# Shift the index of the end date up one; now subract it from the start date\n",
    "rides['Time since'] = rides['Start date'] - (rides['End date'].shift(1))\n",
    "\n",
    "# Move from a timedelta to a number of seconds, which is easier to work with\n",
    "rides['Time since'] = rides['Time since'].dt.total_seconds()\n",
    "\n",
    "# Resample to the month\n",
    "monthly = rides.resample('M', on = 'Start date')\n",
    "\n",
    "# Print the average hours between rides each month\n",
    "print(monthly['Time since'].mean()/(60*60))"
   ]
  }
 ],
 "metadata": {
  "interpreter": {
   "hash": "3f51fba3d43c57b17b163e71fbbb3db01d8855d2be5857b3f133c22d8c8ed697"
  },
  "kernelspec": {
   "display_name": "Python 3.8.8 ('base')",
   "language": "python",
   "name": "python3"
  },
  "language_info": {
   "name": "python",
   "version": "3.8.8"
  },
  "orig_nbformat": 4
 },
 "nbformat": 4,
 "nbformat_minor": 2
}
