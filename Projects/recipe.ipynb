{
 "cells": [
  {
   "cell_type": "code",
   "execution_count": null,
   "metadata": {},
   "outputs": [],
   "source": [
    "# import libraries \n",
    "import pandas as pd\n",
    "import matplotlib.pyplot as plt\n",
    "import seaborn as sns\n",
    "from scipy import stats\n",
    "import numpy as np\n",
    "from sklearn.ensemble import RandomForestClassifier\n",
    "from sklearn.feature_selection import RFECV\n",
    "from sklearn.model_selection import train_test_split\n",
    "from sklearn.linear_model import LogisticRegression\n",
    "from sklearn.metrics import confusion_matrix\n",
    "import statsmodels.api as smb"
   ]
  },
  {
   "cell_type": "code",
   "execution_count": null,
   "metadata": {},
   "outputs": [],
   "source": [
    "df = pd.read_csv(\"data/recipes.csv\")\n",
    "print(df.isnull().sum())\n",
    "print(df.shape)"
   ]
  },
  {
   "cell_type": "code",
   "execution_count": null,
   "metadata": {},
   "outputs": [],
   "source": [
    "zero_observations = (df[\"Calories\"] == 0) & (df[\"CholesterolContent\"] == 0) & (df[\"ProteinContent\"] == 0) & (df[\"CarbohydrateContent\"] == 0) & (df[\"SugarContent\"] == 0)\n",
    "df[zero_observations].value_counts().sum()"
   ]
  },
  {
   "cell_type": "code",
   "execution_count": null,
   "metadata": {},
   "outputs": [],
   "source": [
    "df[df[\"RecipeCategory\"].isnull()]"
   ]
  },
  {
   "cell_type": "code",
   "execution_count": null,
   "metadata": {},
   "outputs": [],
   "source": [
    "df.drop(['Name', \"RecipeId\"], axis=1, inplace=True)\n",
    "df.dropna(subset=\"RecipeCategory\", how='any', inplace=True)\n",
    "df.isnull().sum()"
   ]
  },
  {
   "cell_type": "code",
   "execution_count": null,
   "metadata": {},
   "outputs": [],
   "source": [
    "df.drop(df.loc[zero_observations].index, inplace=True)\n",
    "print(df[zero_observations].value_counts().sum())\n",
    "df.shape"
   ]
  },
  {
   "cell_type": "code",
   "execution_count": null,
   "metadata": {},
   "outputs": [],
   "source": [
    "df.RecipeCategory.unique()"
   ]
  },
  {
   "cell_type": "code",
   "execution_count": null,
   "metadata": {},
   "outputs": [],
   "source": [
    "df.describe()"
   ]
  },
  {
   "cell_type": "code",
   "execution_count": null,
   "metadata": {},
   "outputs": [],
   "source": [
    "numeric_data = df.drop([\"RecipeCategory\", \"HighScore\", \"RecipeServings\"], axis=1)\n",
    "def box_hist_plots(data):\n",
    "    \"\"\"Make box plots and histograms of data\"\"\"\n",
    "    # Name=data.name.upper()\n",
    "    # mean=data.mean()\n",
    "    # median=data.median()\n",
    "    # fig, ax = plt.subplots()\n",
    "    fig, (ax1, ax2) = plt.subplots(2, 1)\n",
    "    # fig.suptitle(\"SPREAD OF DATA FOR \" + Name)\n",
    "    sns.boxplot(x=data, data=data, ax=ax1)\n",
    "    sns.histplot(data, bins=100, ax=ax2)\n",
    "    # create mean and median line on histogram plot\n",
    "    # ax.axvline(mean, color='r', linestyle='--',linewidth=2)\n",
    "    # ax.axvline(median, color='g', linestyle='-',linewidth=2)\n",
    "    # plt.legend({'Mean': mean, 'Median': median})\n",
    "\n",
    "numeric_columns = numeric_data.columns\n",
    "# print(numeric_columns)\n",
    "for i in range(len(numeric_columns)):\n",
    "    box_hist_plots(df[numeric_columns[i]])"
   ]
  },
  {
   "cell_type": "code",
   "execution_count": null,
   "metadata": {},
   "outputs": [],
   "source": [
    "def qqplot(data):\n",
    "    Name=data.name.upper()\n",
    "    fig = sm.qqplot(data)\n",
    "    fig.suptitle(\"QQPLOT FOR \" + Name)\n",
    "    \n",
    "numeric_columns = numeric_data.columns\n",
    "for i in range(len(numeric_columns)):\n",
    "    qqplot(df[numeric_columns[i]])"
   ]
  },
  {
   "cell_type": "code",
   "execution_count": null,
   "metadata": {},
   "outputs": [],
   "source": [
    "cals_transformed, _ = stats.boxcox(df[\"Calories\"] + 1)\n",
    "df[\"Calories\"] = cals_transformed\n",
    "\n",
    "protein_transformed = np.log(df[\"ProteinContent\"] + 1)\n",
    "df[\"ProteinContent\"] = protein_transformed\n",
    "\n",
    "sugar_transformed = np.log(df[\"SugarContent\"] + 1)\n",
    "df[\"SugarContent\"] = sugar_transformed\n",
    "\n",
    "carbs_transformed, _ = stats.boxcox(df[\"CarbohydrateContent\"] + 1)\n",
    "df[\"CarbohydrateContent\"] = carbs_transformed\n",
    "\n",
    "cholesterol_transformed, _ = stats.boxcox(df[\"CholesterolContent\"] + 1)\n",
    "df[\"CholesterolContent\"] = cholesterol_transformed\n",
    "\n",
    "recipe_transformed, _ = stats.boxcox(df[\"RecipeServings\"] + 1)\n",
    "df[\"RecipeServings\"] = recipe_transformed"
   ]
  },
  {
   "cell_type": "code",
   "execution_count": null,
   "metadata": {},
   "outputs": [],
   "source": [
    "sns.regplot(x=\"ProteinContent\", y=\"Calories\", data=df)\n",
    "plt.show()"
   ]
  },
  {
   "cell_type": "code",
   "execution_count": null,
   "metadata": {},
   "outputs": [],
   "source": [
    "def outlier(data):\n",
    "\tq_low = data.quantile(0.25)\n",
    "\tq_high = data.quantile(0.75)\n",
    "\n",
    "\tdf_filtered = df[(data < q_high) & (data > q_low)]\n",
    "\n",
    "outlier(df[numeric_data])\n",
    "sns.boxplot(df_filtered['CarbohydrateContent'])"
   ]
  },
  {
   "cell_type": "code",
   "execution_count": null,
   "metadata": {},
   "outputs": [],
   "source": [
    "for i in range(len(numeric_columns)):\n",
    "    box_hist_plots(df_filtered[numeric_columns[i]])"
   ]
  },
  {
   "cell_type": "code",
   "execution_count": null,
   "metadata": {},
   "outputs": [],
   "source": [
    "for i in range(len(numeric_columns)):\n",
    "    qqplot(df_filtered[numeric_columns[i]])"
   ]
  },
  {
   "cell_type": "code",
   "execution_count": null,
   "metadata": {},
   "outputs": [],
   "source": [
    "X_train, X_test, y_train, y_test=train_test_split(X, y, test_size=0.30, random_state=42, stratify=y)"
   ]
  },
  {
   "cell_type": "code",
   "execution_count": null,
   "metadata": {},
   "outputs": [],
   "source": [
    "model = LogisticRegression(class_weight={0: 0.668, 1:0.332})\n",
    "model.fit(X_train, y_train)\n",
    "# model = LinearSVC(class_weight={0: 0.668, 1:0.332}, random_state=42)\n",
    "# model.fit(X_train, y_train)"
   ]
  },
  {
   "cell_type": "code",
   "execution_count": null,
   "metadata": {},
   "outputs": [],
   "source": [
    "score = model.score(X_test, y_test)\n",
    "print(f'Model accuracy of: % {round(score * 100, 2)}')"
   ]
  },
  {
   "cell_type": "code",
   "execution_count": null,
   "metadata": {},
   "outputs": [],
   "source": [
    "predictions = model.predict(X_test)"
   ]
  },
  {
   "cell_type": "code",
   "execution_count": null,
   "metadata": {},
   "outputs": [],
   "source": [
    "conf_matrix = confusion_matrix(y_test, predictions)\n",
    "print(conf_matrix)"
   ]
  },
  {
   "cell_type": "code",
   "execution_count": null,
   "metadata": {},
   "outputs": [],
   "source": [
    "TN = conf_matrix[0, 0] \n",
    "FP = conf_matrix[0, 1] \n",
    "FN = conf_matrix[1, 0] \n",
    "TP = conf_matrix[1, 1] \n"
   ]
  },
  {
   "cell_type": "code",
   "execution_count": null,
   "metadata": {},
   "outputs": [],
   "source": [
    "sp = TN / (TN + FP) \n",
    "print(sp * 100)"
   ]
  },
  {
   "cell_type": "code",
   "execution_count": null,
   "metadata": {},
   "outputs": [],
   "source": [
    "sn = TP / (TP + FN)\n",
    "print(sn * 100)"
   ]
  },
  {
   "cell_type": "code",
   "execution_count": null,
   "metadata": {},
   "outputs": [],
   "source": [
    "print(f'Value count of target variable: \\n{df[\"HighScore\"].value_counts()}')\n",
    "sns.set_style(style='darkgrid')\n",
    "sns.histplot(df['HighScore'])\n",
    "plt.title('Value Count Of Target Variable')\n",
    "plt.show()"
   ]
  },
  {
   "cell_type": "code",
   "execution_count": null,
   "metadata": {},
   "outputs": [],
   "source": [
    "df.RecipeCategory.unique()"
   ]
  },
  {
   "cell_type": "code",
   "execution_count": null,
   "metadata": {},
   "outputs": [],
   "source": [
    "scaler = RobustScaler()\n",
    "scaled = scaler.fit_transform(numeric_data.values)"
   ]
  },
  {
   "cell_type": "code",
   "execution_count": null,
   "metadata": {},
   "outputs": [],
   "source": [
    "df_scaled = pd.DataFrame(scaled, index=numeric_data.index, columns=numeric_data.columns)"
   ]
  },
  {
   "cell_type": "code",
   "execution_count": null,
   "metadata": {},
   "outputs": [],
   "source": [
    "sns.histplot(df_scaled[\"Calories\"])\n",
    "plt.show()"
   ]
  },
  {
   "cell_type": "code",
   "execution_count": null,
   "metadata": {},
   "outputs": [],
   "source": [
    "# print(df['Calories'].value_counts(bins = [0,40,100,400], sort = False))\n",
    "from scipy.stats import binned_statistic\n",
    "x_data = np.arange(0, len(df))\n",
    "y_data = df['Calories']\n",
    "x_bins,bin_edges, misc = binned_statistic(y_data,x_data, statistic=\"median\", bins=[0, 40, 100, 400, 800, 1600, 3200, 31000])\n",
    "x_data2 = np.arange(0, len(df))\n",
    "y_data2 = df['ProteinContent']\n",
    "x_bins2,bin_edges2, misc2 = binned_statistic(y_data2,x_data2, statistic=\"median\", bins=[0, 40, 100, 400, 800, 1600])"
   ]
  },
  {
   "cell_type": "code",
   "execution_count": null,
   "metadata": {},
   "outputs": [],
   "source": [
    "bin_intervals = pd.IntervalIndex.from_arrays(bin_edges[:-1], bin_edges[1:])\n",
    "bin_intervals2 = pd.IntervalIndex.from_arrays(bin_edges2[:-1], bin_edges2[1:])"
   ]
  },
  {
   "cell_type": "code",
   "execution_count": null,
   "metadata": {},
   "outputs": [],
   "source": [
    "def set_to_median(x, bin_intervals):\n",
    "    for interval in bin_intervals:\n",
    "        if x in interval:\n",
    "            return interval.mid"
   ]
  },
  {
   "cell_type": "code",
   "execution_count": null,
   "metadata": {},
   "outputs": [],
   "source": [
    "df['Calories'] = df['Calories'].apply(lambda x: set_to_median(x, bin_intervals))\n",
    "df['ProteinContent'] = df['ProteinContent'].apply(lambda x: set_to_median(x, bin_intervals))"
   ]
  },
  {
   "cell_type": "code",
   "execution_count": null,
   "metadata": {},
   "outputs": [],
   "source": [
    "sns.regplot('Calories', 'ProteinContent', data=df)\n",
    "plt.show()"
   ]
  },
  {
   "cell_type": "code",
   "execution_count": null,
   "metadata": {},
   "outputs": [],
   "source": [
    "plt.plot(df['Calories'], label='original')\n",
    "plt.plot(df['sampled_calories'], color='red', label='sampled')\n",
    "plt.legend()\n",
    "plt.show()"
   ]
  },
  {
   "cell_type": "code",
   "execution_count": null,
   "metadata": {},
   "outputs": [],
   "source": []
  },
  {
   "cell_type": "code",
   "execution_count": null,
   "metadata": {},
   "outputs": [],
   "source": [
    "#Outlier Treatment\n",
    "for i in range(len(numeric_columns)):\n",
    "    box_plots(df[numeric_columns[i]])"
   ]
  },
  {
   "cell_type": "code",
   "execution_count": null,
   "metadata": {},
   "outputs": [],
   "source": [
    "Every feature has many outliers but they can not all be removed. Outliers will be removed based on distance from other outliers. If there are no near outliers near a value it will be removed. Can not use iqr because many observations will be removed that may have important information"
   ]
  },
  {
   "cell_type": "code",
   "execution_count": null,
   "metadata": {},
   "outputs": [],
   "source": [
    "print(df['Calories'].sort_values(ascending=False).head(20))\n",
    "# print(df['CholesterolContent'].sort_values(ascending=False).head(20))\n",
    "# print(df['CarbohydrateContent'].sort_values(ascending=False).head(20))\n",
    "# print(df['SugarContent'].sort_values(ascending=False).head(20))\n",
    "# print(df['ProteinContent'].sort_values(ascending=False).head(20))\n",
    "# print(df['RecipeServings'].sort_values(ascending=False).head(20))"
   ]
  },
  {
   "cell_type": "code",
   "execution_count": null,
   "metadata": {},
   "outputs": [],
   "source": [
    "df.iloc[38735, 0:8] "
   ]
  },
  {
   "cell_type": "code",
   "execution_count": null,
   "metadata": {},
   "outputs": [],
   "source": [
    "# index_cals = df[df['Calories'] >= 25].index\n",
    "# df.drop(index_cals, inplace=True) #Removed 1 observation (38) which is 7 points away \n",
    "\n",
    "# index_cholesterol = df[df['CholesterolContent'] >= .2].index\n",
    "# df.drop(index_cholesterol, inplace=True) #Removed 1 observation (26) which is 5 points away\n",
    "\n",
    "# index_carbs = df[df['CarbohydrateContent'] >= 27].index\n",
    "# df.drop(index_carbs, inplace=True) #Removed 3 observations (60, 42, 40) 40 is 6 points away\n",
    "\n",
    "# index_sugar = df[df['SugarContent'] >= 22].index\n",
    "# df.drop(index_sugar, inplace=True) #Removed 2 observations (29, 29) which is 3 points away\n",
    "\n",
    "# index_protein = df[df['ProteinContent'] >= 15].index\n",
    "# df.drop(index_protein, inplace=True) # Removed 5 observations (33, 22, 20, 19, 19) 19 is 3 away\n",
    "\n",
    "# index_rs = df[df['RecipeServings'] >= 13].index\n",
    "# df.drop(index_rs, inplace=True) #Removed 4 observations(181, 59, 20, 20) 20 is 5 away"
   ]
  },
  {
   "cell_type": "code",
   "execution_count": null,
   "metadata": {},
   "outputs": [],
   "source": [
    "index_cals = df[df['Calories'] >= 27].index\n",
    "df.drop(index_cals, inplace=True) #Removed 1 observation (38) which is 7 points away \n",
    "\n",
    "index_cholesterol = df[df['CholesterolContent'] >= 0.2].index\n",
    "df.drop(index_cholesterol, inplace=True) #Removed 1 observation (26) which is 5 points away\n",
    "\n",
    "index_carbs = df[df['CarbohydrateContent'] >= 27].index\n",
    "df.drop(index_carbs, inplace=True) #Removed 3 observations (60, 42, 40) 40 is 6 points away\n",
    "\n",
    "index_sugar = df[df['SugarContent'] >= 21].index\n",
    "df.drop(index_sugar, inplace=True) #Removed 2 observations (29, 29) which is 3 points away\n",
    "\n",
    "index_protein = df[df['ProteinContent'] >= 15].index\n",
    "df.drop(index_protein, inplace=True) # Removed 5 observations (33, 22, 20, 19, 19) 19 is 3 away\n",
    "\n",
    "index_rs = df[df['RecipeServings'] >= 13].index\n",
    "df.drop(index_rs, inplace=True) #Removed 4 observations(181, 59, 20, 20) 20 is 5 away"
   ]
  },
  {
   "cell_type": "code",
   "execution_count": null,
   "metadata": {},
   "outputs": [],
   "source": []
  },
  {
   "cell_type": "code",
   "execution_count": null,
   "metadata": {},
   "outputs": [],
   "source": [
    "#### Class imbalance"
   ]
  },
  {
   "cell_type": "code",
   "execution_count": null,
   "metadata": {},
   "outputs": [],
   "source": [
    "# Seperate features from target variable\n",
    "X = df.drop(['HighScore'], axis=1)\n",
    "y = df['HighScore']\n",
    "\n",
    "print(f'Original target data count: \\n{y.value_counts()}')\n",
    "# perform random over sampling with replacement\n",
    "over_sample = RandomOverSampler(sampling_strategy='all', random_state=200)\n",
    "X_over, y_over = over_sample.fit_resample(X, y)\n",
    "print(f'Target data count after sampling: \\n{Counter(y_over)}')"
   ]
  },
  {
   "cell_type": "code",
   "execution_count": null,
   "metadata": {},
   "outputs": [],
   "source": [
    "df = X_over\n",
    "df['HighScore'] = y_over\n",
    "print(f'Dataframe shape after balancing class: {df.shape}')"
   ]
  },
  {
   "cell_type": "code",
   "execution_count": null,
   "metadata": {},
   "outputs": [],
   "source": [
    "index_cals = df[(df['Calories'] >= 1500) & (df['RecipeServings'] == 1)].index\n",
    "# display(index_cals.sort_values(by='Calories', ascending=False))\n",
    "df.drop(index_cals, inplace=True) \n",
    "\n",
    "index_cals = df[df['Calories'] >= 9900].index\n",
    "df.drop(index_cals, inplace=True)\n",
    "\n",
    "index_cholesterol = df[df['CholesterolContent'] >= 2].index\n",
    "df.drop(index_cholesterol, inplace=True) \n",
    "\n",
    "# Start from here\n",
    "index_carbs = df[df['CarbohydrateContent'] >= 500].index # 0 rows\n",
    "df.drop(index_carbs, inplace=True)\n",
    "\n",
    "index_sugar = df[df['SugarContent'] >= 500].index\n",
    "df.drop(index_sugar, inplace=True)  #300\n",
    "\n",
    "index_protein = df[df['ProteinContent'] >= 200].index\n",
    "df.drop(index_protein, inplace=True) \n",
    "\n",
    "index_rs = df[df['RecipeServings'] >= 100].index\n",
    "df.drop(index_rs, inplace=True) "
   ]
  },
  {
   "cell_type": "code",
   "execution_count": null,
   "metadata": {},
   "outputs": [],
   "source": []
  },
  {
   "cell_type": "code",
   "execution_count": null,
   "metadata": {},
   "outputs": [],
   "source": [
    "# Check skew value of numeric features\n",
    "print('Calories skew value: ', df['Calories'].skew())\n",
    "print('Carbs skew value: ',df['CarbohydrateContent'].skew())\n",
    "print('Proteins skew value: ',df['ProteinContent'].skew())\n",
    "print('Cholesterols skew value: ',df['CholesterolContent'].skew())\n",
    "print('Sugars skew value: ',df['SugarContent'].skew())\n",
    "print('Recipe Servings skew value: ',df['RecipeServings'].skew())"
   ]
  },
  {
   "cell_type": "code",
   "execution_count": null,
   "metadata": {},
   "outputs": [],
   "source": [
    "# # Check skew values again after transformation\n",
    "# print('Calories skew value: ', df['Calories'].skew()) \n",
    "# print('Carbs skew value: ',df['CarbohydrateContent'].skew()) \n",
    "# print('Proteins skew value: ',df['ProteinContent'].skew()) \n",
    "# print('Cholesterols skew value: ',df['CholesterolContent'].skew()) \n",
    "# print('Sugars skew value: ',df['SugarContent'].skew()) \n",
    "# print('Recipe Servings skew value: ',df['RecipeServings'].skew()) "
   ]
  }
 ],
 "metadata": {
  "interpreter": {
   "hash": "7604020a67e8a0ff1baf1b489e63eacde494890859b193f4c6d1b90c3501d2dd"
  },
  "kernelspec": {
   "display_name": "Python 3.9.13 64-bit (windows store)",
   "language": "python",
   "name": "python3"
  },
  "language_info": {
   "name": "python",
   "version": "3.9.13"
  },
  "orig_nbformat": 4
 },
 "nbformat": 4,
 "nbformat_minor": 2
}
